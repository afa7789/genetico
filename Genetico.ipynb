{
 "cells": [
  {
   "cell_type": "code",
   "execution_count": 69,
   "metadata": {},
   "outputs": [],
   "source": [
    "import random\n",
    "import math"
   ]
  },
  {
   "cell_type": "code",
   "execution_count": 70,
   "metadata": {},
   "outputs": [],
   "source": [
    "def criarPopulação(linhas,colunas):\n",
    "    ListaMatrix = []\n",
    "    for j in range(0,linhas):\n",
    "        ListaLinha=[]\n",
    "        for i in range(0,colunas):\n",
    "            a=random.uniform(-10, 10)\n",
    "            ListaLinha.append(a)\n",
    "            print(a)\n",
    "        ListaMatrix.append(ListaLinha)\n",
    "        \n",
    "    return ListaMatrix"
   ]
  },
  {
   "cell_type": "code",
   "execution_count": 71,
   "metadata": {},
   "outputs": [],
   "source": [
    "def imprimirMatrix(matrix):\n",
    "    colunas= len(matrix[0])\n",
    "    linhas= len(matrix)\n",
    "    for j in range ( 0, linhas):\n",
    "        for i in range(0,colunas):\n",
    "             print(matrix[j][i], end = '  ')\n",
    "        print(\"\",end=\"\\n\")\n",
    "    "
   ]
  },
  {
   "cell_type": "code",
   "execution_count": 72,
   "metadata": {},
   "outputs": [],
   "source": [
    "def f6(x,y):\n",
    "    somaXY= x*x + y*y\n",
    "    raiz= math.sqrt(somaXY) \n",
    "    parteComSeno= math.sin(raiz)\n",
    "    numerador= parteComSeno * parteComSeno - 0.5\n",
    "    denominadorParte1= 1 + 0.001*somaXY\n",
    "    denominadorParte2= denominadorParte1*denominadorParte1\n",
    "    fracao = numerador/denominadorParte2\n",
    "    resultado =0.5 - fracao\n",
    "    \n",
    "    return resultado"
   ]
  },
  {
   "cell_type": "code",
   "execution_count": 73,
   "metadata": {},
   "outputs": [],
   "source": [
    "def f6total(Matrix):\n",
    "    #vai usar as 2 primeiras colunas da matrix como X e Y.\n",
    "    linhas = len(Matrix)\n",
    "    for i in range(0,linhas):\n",
    "        x= Matrix[i][0]\n",
    "        y= Matrix[i][1]\n",
    "        z= f6(x,y)\n",
    "        Matrix[i].append(z)\n",
    "        print(Matrix[i])"
   ]
  },
  {
   "cell_type": "code",
   "execution_count": null,
   "metadata": {},
   "outputs": [],
   "source": [
    "def somatorioZ(Matrix):\n",
    "    #3 coluna é o z, criar 4 coluna que é o somatorio dos z anteriores"
   ]
  },
  {
   "cell_type": "code",
   "execution_count": null,
   "metadata": {},
   "outputs": [],
   "source": [
    "def sortear(Matrix):\n",
    "    #pegando a coluna 4 que é o somatorio pegar o ultimo valor que é o maximo, \n",
    "    #sorteia X (entre 0 ao maximo) individuos estes serão comparados para selecionar os\n",
    "    #verifica se o valor sorteado é menor que o valor da coluna 4 ( começa do inicio ao fim pois está ordenado de forma crescente)\n",
    "    # se for menor adiciono a um vetor o indice, e assim temos qual está selecionado no sorteio."
   ]
  },
  {
   "cell_type": "code",
   "execution_count": null,
   "metadata": {},
   "outputs": [],
   "source": [
    "def cruzamento(Vetor):\n",
    "    #vai cruzar ( 0 a 1 random, compara com taxa de cruzar)\n",
    "    #se for cruzar gera alpha aleatorio de 0 a 1 e gera os dois filhos x e y ( troca os pesos para ter 2 filhos (alhpa e 1-alpha)\n",
    "    #se não cruzar mantem os pais como filhos\n",
    "    #cria um vetor de resultado que é os 100 filhos.\n",
    "    "
   ]
  },
  {
   "cell_type": "code",
   "execution_count": null,
   "metadata": {},
   "outputs": [],
   "source": [
    "def mutação(Vetor):\n",
    "    "
   ]
  },
  {
   "cell_type": "code",
   "execution_count": 74,
   "metadata": {},
   "outputs": [
    {
     "name": "stdout",
     "output_type": "stream",
     "text": [
      "-3.0664529798848017\n",
      "1.4336734429343085\n",
      "0.6231211558495566\n",
      "5.937698887365315\n",
      "9.206225509921193\n",
      "-7.217407796590907\n",
      "2.9091103575307464\n",
      "6.247543705863151\n",
      "-6.542846734161438\n",
      "2.3524305864715185\n",
      "-4.795357439679407\n",
      "-1.6803740044545101\n",
      "7.182790916553316\n",
      "-0.07125235122864382\n",
      "-2.4696797756481175\n",
      "0.053820587907560835\n",
      "-3.857135154665558\n",
      "-4.569492027562574\n",
      "9.887002078826349\n",
      "5.640789543570431\n"
     ]
    }
   ],
   "source": [
    "A = criarPopulação(10,2)\n"
   ]
  },
  {
   "cell_type": "code",
   "execution_count": 64,
   "metadata": {},
   "outputs": [
    {
     "data": {
      "text/plain": [
       "2"
      ]
     },
     "execution_count": 64,
     "metadata": {},
     "output_type": "execute_result"
    }
   ],
   "source": [
    "len(A[0])"
   ]
  },
  {
   "cell_type": "code",
   "execution_count": 65,
   "metadata": {},
   "outputs": [
    {
     "name": "stdout",
     "output_type": "stream",
     "text": [
      "-1.1944174960402023  0.4825480059393339  \n",
      "5.870800926757147  8.91508823255553  \n",
      "-6.024014505019906  -7.297026922650421  \n",
      "8.097544809502054  -2.9921133813618894  \n",
      "4.9651764948778485  0.3652956008795609  \n",
      "-8.481984435886798  2.7280205140443172  \n",
      "-8.578400656881813  3.6019309234989976  \n",
      "-5.485020373559615  -3.9138762820130175  \n",
      "1.172591237029204  -0.9427722824304023  \n",
      "-7.896605467961955  3.5924769006605466  \n"
     ]
    }
   ],
   "source": [
    "imprimirMatrix(A)"
   ]
  },
  {
   "cell_type": "code",
   "execution_count": 66,
   "metadata": {},
   "outputs": [
    {
     "name": "stdout",
     "output_type": "stream",
     "text": [
      "[-1.1944174960402023, 0.4825480059393339, 0.07914972435400841]\n",
      "[5.870800926757147, 8.91508823255553, 0.17731635654838723]\n",
      "[-6.024014505019906, -7.297026922650421, 0.9200127882815121]\n",
      "[8.097544809502054, -2.9921133813618894, 0.49418796385406205]\n",
      "[4.9651764948778485, 0.3652956008795609, 0.08979497193470065]\n",
      "[-8.481984435886798, 2.7280205140443172, 0.7210212708764943]\n",
      "[-8.578400656881813, 3.6019309234989976, 0.9111941100069986]\n",
      "[-5.485020373559615, -3.9138762820130175, 0.7807562025396007]\n",
      "[1.172591237029204, -0.9427722824304023, 0.006613309322812455]\n",
      "[-7.896605467961955, 3.5924769006605466, 0.5311125475325756]\n"
     ]
    }
   ],
   "source": [
    "f6total(A)"
   ]
  },
  {
   "cell_type": "code",
   "execution_count": 67,
   "metadata": {},
   "outputs": [
    {
     "data": {
      "text/plain": [
       "[[-1.1944174960402023, 0.4825480059393339, 0.07914972435400841],\n",
       " [5.870800926757147, 8.91508823255553, 0.17731635654838723],\n",
       " [-6.024014505019906, -7.297026922650421, 0.9200127882815121],\n",
       " [8.097544809502054, -2.9921133813618894, 0.49418796385406205],\n",
       " [4.9651764948778485, 0.3652956008795609, 0.08979497193470065],\n",
       " [-8.481984435886798, 2.7280205140443172, 0.7210212708764943],\n",
       " [-8.578400656881813, 3.6019309234989976, 0.9111941100069986],\n",
       " [-5.485020373559615, -3.9138762820130175, 0.7807562025396007],\n",
       " [1.172591237029204, -0.9427722824304023, 0.006613309322812455],\n",
       " [-7.896605467961955, 3.5924769006605466, 0.5311125475325756]]"
      ]
     },
     "execution_count": 67,
     "metadata": {},
     "output_type": "execute_result"
    }
   ],
   "source": [
    "A"
   ]
  },
  {
   "cell_type": "code",
   "execution_count": 68,
   "metadata": {},
   "outputs": [
    {
     "name": "stdout",
     "output_type": "stream",
     "text": [
      "-1.1944174960402023  0.4825480059393339  0.07914972435400841  \n",
      "5.870800926757147  8.91508823255553  0.17731635654838723  \n",
      "-6.024014505019906  -7.297026922650421  0.9200127882815121  \n",
      "8.097544809502054  -2.9921133813618894  0.49418796385406205  \n",
      "4.9651764948778485  0.3652956008795609  0.08979497193470065  \n",
      "-8.481984435886798  2.7280205140443172  0.7210212708764943  \n",
      "-8.578400656881813  3.6019309234989976  0.9111941100069986  \n",
      "-5.485020373559615  -3.9138762820130175  0.7807562025396007  \n",
      "1.172591237029204  -0.9427722824304023  0.006613309322812455  \n",
      "-7.896605467961955  3.5924769006605466  0.5311125475325756  \n"
     ]
    }
   ],
   "source": [
    "imprimirMatrix(A)"
   ]
  },
  {
   "cell_type": "code",
   "execution_count": null,
   "metadata": {},
   "outputs": [],
   "source": []
  }
 ],
 "metadata": {
  "kernelspec": {
   "display_name": "Python 3",
   "language": "python",
   "name": "python3"
  },
  "language_info": {
   "codemirror_mode": {
    "name": "ipython",
    "version": 3
   },
   "file_extension": ".py",
   "mimetype": "text/x-python",
   "name": "python",
   "nbconvert_exporter": "python",
   "pygments_lexer": "ipython3",
   "version": "3.6.4"
  }
 },
 "nbformat": 4,
 "nbformat_minor": 2
}
